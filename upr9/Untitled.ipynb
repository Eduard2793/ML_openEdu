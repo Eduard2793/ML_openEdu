{
 "cells": [
  {
   "cell_type": "code",
   "execution_count": 10,
   "metadata": {},
   "outputs": [],
   "source": [
    "#чтение данных, так как названия конфет уникальны, используем их в качестве индекса\n",
    "import numpy as np\n",
    "import pandas as pd\n",
    "DATA = pd.read_csv(\"kmeans1.csv\", delimiter=',', index_col='Object')"
   ]
  },
  {
   "cell_type": "code",
   "execution_count": 11,
   "metadata": {},
   "outputs": [],
   "source": [
    "#удаление столбца Cluster из набора данных\n",
    "coords = DATA.drop('Cluster', axis=1)"
   ]
  },
  {
   "cell_type": "code",
   "execution_count": 12,
   "metadata": {},
   "outputs": [],
   "source": [
    "#подключение KMeans из библиотеки sklearn\n",
    "from sklearn.cluster import KMeans"
   ]
  },
  {
   "cell_type": "code",
   "execution_count": 13,
   "metadata": {},
   "outputs": [],
   "source": [
    "#координаты центроидов\n",
    "# мой [12.0, 11.5], [12.71, 13.43], [10.5, 8.75]\n",
    "centroid = np.array([[14.0, 9.75], [14.25, 15.25], [5.29, 9.57]])"
   ]
  },
  {
   "cell_type": "code",
   "execution_count": 14,
   "metadata": {},
   "outputs": [],
   "source": [
    "#инициализация модели\n",
    "kmeans = KMeans(n_clusters=3, init=centroid, max_iter=100, n_init=1)"
   ]
  },
  {
   "cell_type": "code",
   "execution_count": 15,
   "metadata": {},
   "outputs": [],
   "source": [
    "#обучение модели на данных из coords\n",
    "model = kmeans.fit(coords)"
   ]
  },
  {
   "cell_type": "code",
   "execution_count": 16,
   "metadata": {},
   "outputs": [
    {
     "data": {
      "text/plain": [
       "[1, 0, 2, 0, 1, 2, 1, 2, 2, 2, 0, 0, 1, 2, 1]"
      ]
     },
     "execution_count": 16,
     "metadata": {},
     "output_type": "execute_result"
    }
   ],
   "source": [
    "#вывод назначенных кластеров\n",
    "model.labels_.tolist()"
   ]
  },
  {
   "cell_type": "code",
   "execution_count": 17,
   "metadata": {},
   "outputs": [],
   "source": [
    "#обучение модели и расчет расстояний до центроидов\n",
    "alldistances = kmeans.fit_transform(coords)"
   ]
  },
  {
   "cell_type": "code",
   "execution_count": 18,
   "metadata": {},
   "outputs": [
    {
     "data": {
      "text/plain": [
       "array([[13.20037878,  6.95701085, 20.07001633],\n",
       "       [ 3.90512484,  7.69415362, 13.25916874],\n",
       "       [13.5       , 15.80506248,  3.1841622 ],\n",
       "       [ 4.60977223,  7.21110255,  7.60299649],\n",
       "       [10.11187421,  0.4472136 , 13.59432071],\n",
       "       [13.53698637, 15.20526225,  3.43592135],\n",
       "       [12.5       ,  6.40312424, 10.71473544],\n",
       "       [ 8.5       , 15.2118375 ,  4.63381292],\n",
       "       [ 9.70824392, 14.48447445,  1.86338998],\n",
       "       [ 9.96242942, 15.31012737,  2.79384244],\n",
       "       [ 3.20156212, 11.88276062,  8.00867585],\n",
       "       [ 5.31507291, 14.54647724, 14.31102916],\n",
       "       [ 8.1394103 ,  7.61577311, 17.05302189],\n",
       "       [10.40432602,  8.31865374,  6.59334681],\n",
       "       [13.31352696,  6.51152824, 11.68213261]])"
      ]
     },
     "execution_count": 18,
     "metadata": {},
     "output_type": "execute_result"
    }
   ],
   "source": [
    "#вывод расстояний от данных до всех центроидов\n",
    "alldistances"
   ]
  },
  {
   "cell_type": "code",
   "execution_count": null,
   "metadata": {},
   "outputs": [],
   "source": []
  }
 ],
 "metadata": {
  "kernelspec": {
   "display_name": "Python 3",
   "language": "python",
   "name": "python3"
  },
  "language_info": {
   "codemirror_mode": {
    "name": "ipython",
    "version": 3
   },
   "file_extension": ".py",
   "mimetype": "text/x-python",
   "name": "python",
   "nbconvert_exporter": "python",
   "pygments_lexer": "ipython3",
   "version": "3.7.6"
  }
 },
 "nbformat": 4,
 "nbformat_minor": 4
}
