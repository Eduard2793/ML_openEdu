{
 "cells": [
  {
   "cell_type": "markdown",
   "metadata": {},
   "source": [
    "Вводим переменные"
   ]
  },
  {
   "cell_type": "code",
   "execution_count": 92,
   "metadata": {},
   "outputs": [],
   "source": [
    "pred_for_task = \"pred_for_task.csv\";\n",
    "threshold = 0.84\n",
    "random_state = 95\n",
    "test_size = 0.3\n",
    "min_samples_leaf = 10\n",
    "max_depth = 20\n",
    "n_estimators = 10\n",
    "criterion = 'gini'\n",
    "svd_solver = 'full'\n",
    "k = 0 # Колонка во 2 задании\n",
    "classXTrue = 4 # Задание 3 Кол-во верно классифицированных класса X\n",
    "fileX = 3 #Задание 4 fileX = 20 === file20\n",
    "printDigit = 1 # Какая цифра нарисована в задании 4"
   ]
  },
  {
   "cell_type": "code",
   "execution_count": 93,
   "metadata": {},
   "outputs": [
    {
     "name": "stdout",
     "output_type": "stream",
     "text": [
      "Requirement already up-to-date: pip in c:\\users\\edik kek\\anaconda3\\lib\\site-packages (20.1.1)\n",
      "Requirement already up-to-date: scikit-learn==0.23.0 in c:\\users\\edik kek\\anaconda3\\lib\\site-packages (0.23.0)\n",
      "Requirement already satisfied, skipping upgrade: threadpoolctl>=2.0.0 in c:\\users\\edik kek\\anaconda3\\lib\\site-packages (from scikit-learn==0.23.0) (2.1.0)\n",
      "Requirement already satisfied, skipping upgrade: scipy>=0.19.1 in c:\\users\\edik kek\\anaconda3\\lib\\site-packages (from scikit-learn==0.23.0) (1.4.1)\n",
      "Requirement already satisfied, skipping upgrade: joblib>=0.11 in c:\\users\\edik kek\\anaconda3\\lib\\site-packages (from scikit-learn==0.23.0) (0.14.1)\n",
      "Requirement already satisfied, skipping upgrade: numpy>=1.13.3 in c:\\users\\edik kek\\anaconda3\\lib\\site-packages (from scikit-learn==0.23.0) (1.18.1)\n"
     ]
    }
   ],
   "source": [
    "!pip install --upgrade pip\n",
    "!pip install --upgrade scikit-learn==0.23.0\n",
    "import numpy as np\n",
    "from sklearn.model_selection import train_test_split\n",
    "dim = 784\n",
    "from sklearn.multiclass import OneVsRestClassifier\n",
    "from sklearn.tree import DecisionTreeClassifier\n",
    "from sklearn.ensemble import RandomForestClassifier\n",
    "from sklearn.linear_model import LogisticRegression"
   ]
  },
  {
   "cell_type": "code",
   "execution_count": 94,
   "metadata": {},
   "outputs": [
    {
     "data": {
      "text/plain": [
       "'\\npca = PCA(n_components=dim, svd_solver=svd_solver)\\nmodelPCA = pca.fit(X_train) \\nX_train = modelPCA.transform(X_train)\\ntree = RandomForestClassifier(criterion=criterion, min_samples_leaf=min_samples_leaf, max_depth=max_depth, n_estimators=n_estimators, random_state=random_state)\\nclf = OneVsRestClassifier(tree).fit(X_train, y_train)\\nX_test = modelPCA.transform(X_test)\\ny_pred = clf.predict(X_test)\\nexplained_variance = np.round(np.cumsum(pca.explained_variance_ratio_),3)\\n'"
      ]
     },
     "execution_count": 94,
     "metadata": {},
     "output_type": "execute_result"
    }
   ],
   "source": [
    "from keras.datasets import mnist\n",
    "(X_train, y_train), (X_pred, y_pred) = mnist.load_data()\n",
    "from sklearn.model_selection import train_test_split\n",
    "X_train, X_test, y_train, y_test = train_test_split(X_train, y_train, test_size=test_size, random_state=random_state)\n",
    "X_train = X_train.reshape(len(X_train), dim)\n",
    "X_test = X_test.reshape(len(X_test), dim)\n",
    "from sklearn.decomposition import PCA\n",
    "'''\n",
    "pca = PCA(n_components=dim, svd_solver=svd_solver)\n",
    "modelPCA = pca.fit(X_train) \n",
    "X_train = modelPCA.transform(X_train)\n",
    "tree = RandomForestClassifier(criterion=criterion, min_samples_leaf=min_samples_leaf, max_depth=max_depth, n_estimators=n_estimators, random_state=random_state)\n",
    "clf = OneVsRestClassifier(tree).fit(X_train, y_train)\n",
    "X_test = modelPCA.transform(X_test)\n",
    "y_pred = clf.predict(X_test)\n",
    "explained_variance = np.round(np.cumsum(pca.explained_variance_ratio_),3)\n",
    "'''"
   ]
  },
  {
   "cell_type": "code",
   "execution_count": 95,
   "metadata": {},
   "outputs": [],
   "source": [
    "pca = PCA(n_components=dim, svd_solver=svd_solver)\n",
    "modelPCA = pca.fit(X_train) \n",
    "X_train = modelPCA.transform(X_train)"
   ]
  },
  {
   "cell_type": "code",
   "execution_count": 96,
   "metadata": {},
   "outputs": [],
   "source": [
    "tree = RandomForestClassifier(criterion=criterion, min_samples_leaf=min_samples_leaf, max_depth=max_depth, n_estimators=n_estimators, random_state=random_state)"
   ]
  },
  {
   "cell_type": "code",
   "execution_count": 97,
   "metadata": {},
   "outputs": [],
   "source": [
    "clf = OneVsRestClassifier(tree).fit(X_train, y_train)\n",
    "X_test = modelPCA.transform(X_test)\n",
    "y_pred = clf.predict(X_test)\n",
    "explained_variance = np.round(np.cumsum(pca.explained_variance_ratio_),3)"
   ]
  },
  {
   "cell_type": "code",
   "execution_count": 98,
   "metadata": {},
   "outputs": [],
   "source": [
    "min_M = 0\n",
    "for i in explained_variance:\n",
    "    min_M += 1\n",
    "    if (i > threshold):\n",
    "        break"
   ]
  },
  {
   "cell_type": "code",
   "execution_count": 99,
   "metadata": {},
   "outputs": [],
   "source": [
    "from keras.datasets import mnist\n",
    "from sklearn.decomposition import PCA\n",
    "from sklearn.model_selection import train_test_split\n",
    "\n",
    "(X_train, y_train), (X_pred, y_pred) = mnist.load_data()\n",
    "X_train = X_train.reshape(len(X_train), dim)\n",
    "pca = PCA(n_components=min_M, svd_solver=svd_solver)\n",
    "modelPCA = pca.fit(X_train) \n",
    "X_train = modelPCA.transform(X_train)\n",
    "X_train, X_test, y_train, y_test = train_test_split(X_train, y_train, test_size=test_size, random_state=random_state)"
   ]
  },
  {
   "cell_type": "code",
   "execution_count": 100,
   "metadata": {},
   "outputs": [],
   "source": [
    "mean = np.mean(X_train, axis = 0)"
   ]
  },
  {
   "cell_type": "code",
   "execution_count": 101,
   "metadata": {},
   "outputs": [],
   "source": [
    "tree = RandomForestClassifier(criterion=criterion, min_samples_leaf=min_samples_leaf, max_depth=max_depth, n_estimators=n_estimators, random_state=random_state)\n",
    "clf = OneVsRestClassifier(tree).fit(X_train, y_train)\n",
    "y_pred = clf.predict(X_test)\n",
    "from sklearn.metrics import confusion_matrix\n",
    "CM = confusion_matrix(y_test, y_pred)"
   ]
  },
  {
   "cell_type": "code",
   "execution_count": 102,
   "metadata": {},
   "outputs": [],
   "source": [
    "import pandas as pd\n",
    "db = pd.read_csv(pred_for_task)\n",
    "yp_test = db[\"Label\"]\n",
    "xp_text = db.iloc[:,2:]\n",
    "xp_text2 = modelPCA.transform(xp_text)\n",
    "y_pred2 = clf.predict(xp_text2)\n",
    "proba = clf.predict_proba(xp_text2)[fileX - 1][printDigit]"
   ]
  },
  {
   "cell_type": "code",
   "execution_count": null,
   "metadata": {},
   "outputs": [],
   "source": []
  },
  {
   "cell_type": "code",
   "execution_count": 103,
   "metadata": {},
   "outputs": [
    {
     "name": "stdout",
     "output_type": "stream",
     "text": [
      "Количество главных компонент: 56\n",
      "Выборочное среднее  0 -й колонки для полученного тренировочного набора:  2.971617310280727\n",
      "Количество верно классифицированных объектов класса  4  для тестовых данных: 1603\n",
      "Вероятность отнесения изображения file 3  к назначенному классу алгоритмом случайного леса: 0.9975172768286161\n"
     ]
    }
   ],
   "source": [
    "print(\"Количество главных компонент:\", min_M)\n",
    "print(\"Выборочное среднее \", k, \"-й колонки для полученного тренировочного набора: \", mean[k])\n",
    "print(\"Количество верно классифицированных объектов класса \", classXTrue,\" для тестовых данных:\", CM[classXTrue][classXTrue])\n",
    "print(\"Вероятность отнесения изображения file\", fileX,\" к назначенному классу алгоритмом случайного леса:\", proba)"
   ]
  },
  {
   "cell_type": "code",
   "execution_count": null,
   "metadata": {},
   "outputs": [],
   "source": []
  }
 ],
 "metadata": {
  "kernelspec": {
   "display_name": "Python 3",
   "language": "python",
   "name": "python3"
  },
  "language_info": {
   "codemirror_mode": {
    "name": "ipython",
    "version": 3
   },
   "file_extension": ".py",
   "mimetype": "text/x-python",
   "name": "python",
   "nbconvert_exporter": "python",
   "pygments_lexer": "ipython3",
   "version": "3.7.6"
  }
 },
 "nbformat": 4,
 "nbformat_minor": 2
}
